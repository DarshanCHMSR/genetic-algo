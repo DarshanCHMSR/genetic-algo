{
 "cells": [
  {
   "cell_type": "code",
   "execution_count": 1,
   "id": "0e137051",
   "metadata": {},
   "outputs": [],
   "source": [
    "def dna_to_protein(dna_sequence):\n",
    "    # Transcription: DNA to mRNA (replace T with U)\n",
    "    mrna_sequence = dna_sequence.upper().replace(\"T\", \"U\")\n",
    "    \n",
    "    # Codon to amino acid mapping (standard genetic code)\n",
    "    codon_table = {\n",
    "        'AUG':'M', 'UUU':'F', 'UUC':'F', 'UUA':'L', 'UUG':'L',\n",
    "        'CUU':'L', 'CUC':'L', 'CUA':'L', 'CUG':'L',\n",
    "        'AUU':'I', 'AUC':'I', 'AUA':'I',\n",
    "        'GUU':'V', 'GUC':'V', 'GUA':'V', 'GUG':'V',\n",
    "        'UCU':'S', 'UCC':'S', 'UCA':'S', 'UCG':'S',\n",
    "        'AGU':'S', 'AGC':'S',\n",
    "        'CCU':'P', 'CCC':'P', 'CCA':'P', 'CCG':'P',\n",
    "        'ACU':'T', 'ACC':'T', 'ACA':'T', 'ACG':'T',\n",
    "        'GCU':'A', 'GCC':'A', 'GCA':'A', 'GCG':'A',\n",
    "        'UAU':'Y', 'UAC':'Y',\n",
    "        'CAU':'H', 'CAC':'H',\n",
    "        'CAA':'Q', 'CAG':'Q',\n",
    "        'AAU':'N', 'AAC':'N',\n",
    "        'AAA':'K', 'AAG':'K',\n",
    "        'GAU':'D', 'GAC':'D',\n",
    "        'GAA':'E', 'GAG':'E',\n",
    "        'UGU':'C', 'UGC':'C',\n",
    "        'UGG':'W',\n",
    "        'CGU':'R', 'CGC':'R', 'CGA':'R', 'CGG':'R',\n",
    "        'AGA':'R', 'AGG':'R',\n",
    "        'GGU':'G', 'GGC':'G', 'GGA':'G', 'GGG':'G',\n",
    "        'UAA':'_', 'UAG':'_', 'UGA':'_'  # Stop codons\n",
    "    }\n",
    "\n",
    "    # Translation: Read codons and map to amino acids\n",
    "    protein = \"\"\n",
    "    for i in range(0, len(mrna_sequence) - 2, 3):\n",
    "        codon = mrna_sequence[i:i+3]\n",
    "        amino_acid = codon_table.get(codon, '')\n",
    "        if amino_acid == '_':  # Stop codon\n",
    "            break\n",
    "        protein += amino_acid\n",
    "\n",
    "    return protein\n"
   ]
  },
  {
   "cell_type": "code",
   "execution_count": 2,
   "id": "65c0668e",
   "metadata": {},
   "outputs": [
    {
     "name": "stdout",
     "output_type": "stream",
     "text": [
      "NSTTFHQTLQDPRVRGLYFPAGGQFRNSKPCSDYCLSLIVNLLEDWTLR\n"
     ]
    }
   ],
   "source": [
    "dna = \"\"\"AATTCCACAACCTTCCACCAAACTCTGCAAGATCCCAGAGTGAGAGGCCTGTATTTCCCTGCTGGTGGCT\n",
    "CCAGTTCAGGAACAGTAAACCCTGTTCTGACTACTGCCTCTCCCTTATCGTCAATCTTCTCGAGGATTGG\n",
    "GGACCCTGCGCTGAACATGGAGAACATCACATCAGGATTCCTAGGACCCCTTCTCGTGTTACAGGCGGGG\n",
    "TTTTTCTTGTTGACAAGAATCCTCACAATACCGCAGAGTCTAGACTCGTGGTGGACTTCTCTCAATTTTC\n",
    "TAGGGGGAACTACCGTGTGTCTTGGCCAAAATTCGCAGTCCCCAACCTCCAATCACTCACCAACCTCTTG\n",
    "TCCTCCAACTTGTCCTGGTTATCGCTGGATGTGTCTGCGGCGTTTTATCATCTTCCTCTTCATCCTGCTG\n",
    "CTATGCCTCATCTTCTTGTTGGTTCTTCTGGACTATCAAGGTATGTTGCCCGTTTGTCCTCTAATTCCAG\n",
    "GATCCTCAACAACCAGCACGGGACCATGCCGGACCTGCATGACTACTGCTCAAGGAACCTCTATGTATCC\n",
    "CTCCTGTTGCTGTACCAAACCTTCGGACGGAAATTGCACCTGTATTCCCATCCCATCATCCTGGGCTTTC\n",
    "GGAAAATTCCTATGGGAGTGGGCCTCAGCCCGTTTCTCCTGGCTCAGTTTACTAGTGCCATTTGTTCAGT\n",
    "GGTTCGTAGGGCTTTCCCCCACTGTTTGGCTTTCAGTTATATGGATGATGTGGTATTGGGGGCCAAGTCT\n",
    "GTACAGCATCTTGAGTCCCTTTTTACCGCTGTTACCAATTTTCTTTTGTCTTTGGGTATACATTTAAACC\n",
    "CTAACAAAACAAAGAGATGGGGTTACTCTCTAAATTTTATGGGTTATGTCATTGGATGTTATGGGTCCTT\n",
    "GCCACAAGAACACATCATACAAAAAATCAAAGAATGTTTTAGAAAACTTCCTATTAACAGGCCTATTGAT\n",
    "TGGAAAGTATGTCAACGAATTGTGGGTCTTTTGGGTTTTGCTGCCCCTTTTACACAATGTGGTTATCCTG\n",
    "CGTTGATGCCTTTGTATGCATGTATTCAATCTAAGCAGGCTTTCACTTTCTCGCCAACTTACAAGGCCTT\n",
    "TCTGTGTAAACAATACCTGAACCTTTACCCCGTTGCCCGGCAACGGCCAGGTCTGTGCCAAGTGTTTGCT\n",
    "GACGCAACCCCCACTGGCTGGGGCTTGGTCATGGGCCATCAGCGCATGCGTGGAACCTTTTCGGCTCCTC\n",
    "TGCCGATCCATACTGCGGAACTCCTAGCCGCTTGTTTTGCTCGCAGCAGGTCTGGAGCAAACATTATCGG\n",
    "GACTGATAACTCTGTTGTCCTATCCCGCAAATATACATCGTTTCCATGGCTGCTAGGCTGTGCTGCCAAC\n",
    "TGGATCCTGCGCGGGACGTCCTTTGTTTACGTCCCGTCGGCGCTGAATCCTGCGGACGACCCTTCTCGGG\n",
    "GTCGCTTGGGACTCTCTCGTCCCCTTCTCCGTCTGCCGTTCCGACCGACCACGGGGCGCACCTCTCTTTA\n",
    "CGCGGACTCCCCGTCTGTGCCTTCTCATCTGCCGGACCGTGTGCACTTCGCTTCACCTCTGCACGTCGCA\n",
    "TGGAGACCACCGTGAACGCCCACCAAATATTGCCCAAGGTCTTACATAAGAGGACTCTTGGACTCTCAGC\n",
    "AATGTCAACGACCGACCTTGAGGCATACTTCAAAGACTGTTTGTTTAAAGACTGGGAGGAGTTGGGGGAG\n",
    "GAGATTAGGTTAAAGGTCTTTGTACTAGGAGGCTGTAGGCATAAATTGGTCTGCGCACCAGCACCATGCA\n",
    "ACTTTTTCACCTCTGCCTAATCATCTCTTGTTCATGTCCTACTGTTCAAGCCTCCAAGCTGTGCCTTGGG\n",
    "TGGCTTTGGGGCATGGACATCGACCCTTATAAAGAATTTGGAGCTACTGTGGAGTTACTCTCGTTTTTGC\n",
    "CTTCTGACTTCTTTCCTTCAGTACGAGATCTTCTAGATACCGCCTCAGCTCTGTATCGGGAAGCCTTAGA\n",
    "GTCTCCTGAGCATTGTTCACCTCACCATACTGCACTCAGGCAAGCAATTCTTTGCTGGGGGGAACTAATG\n",
    "ACTCTAGCTACCTGGGTGGGTGTTAATTTGGAAGATCCAGCGTCTAGAGACCTAGTAGTCAGTTATGTCA\n",
    "ACACTAATATGGGCCTAAAGTTCAGGCAACTCTTGTGGTTTCACATTTCTTGTCTCACTTTTGGAAGAGA\n",
    "AACAGTTATAGAGTATTTGGTGTCTTTCGGAGTGTGGATTCGCACTCCTCCAGCTTATAGACCACCAAAT\n",
    "GCCCCTATCCTATCAACACTTCCGGAGACTACTGTTGTTAGACGACGAGGCAGGTCCCCTAGAAGAAGAA\n",
    "CTCCCTCGCCTCGCAGACGAAGGTCTCAATCGCCGCGTCGCAGAAGATCTCAATCTCGGGAATCTCAATG\n",
    "TTAGTATTCCTTGGACTCATAAGGTGGGGAACTTTACTGGGCTTTATTCTTCTACTGTACCTGTCTTTAA\n",
    "TCCTCATTGGAAAACACCATCTTTTCCTAATATACATTTACACCAAGACATTATCAAAAAATGTGAACAG\n",
    "TTTGTAGGCCCACTCACAGTTAATGAGAAAAGAAGATTGCAATTGATTATGCCTGCCAGGTTTTATCCAA\n",
    "AGGTTACCAAATATTTACCATTGGATAAGGGTATTAAACCTTATTATCCAGAACATCTAGTTAATCATTA\n",
    "CTTCCAAACTAGACACTATTTACACACTCTATGGAAGGCGGGTATATTATATAAGAGAGAAACAACACAT\n",
    "AGCGCCTCATTTTGTGGGTCACCATATTCTTGGGAACAAGATCTACAGCATGGGGCAGAATCTTTCCACC\n",
    "AGCAATCCTCTGGGATTCTTTCCCGACCACCAGTTGGATCCAGCCTTCAGAGCAAACACCGCAAATCCAG\n",
    "ATTGGGACTTCAATCCCAACAAGGACACCTGGCCAGACGCCAACAAGGTAGGAGCTGGAGCATTCGGGCT\n",
    "GGGTTTCACCCCACCGCACGGAGGCCTTTTGGGGTGGAGCCCTCAGGCTCAGGGCATACTACAAACTTTG\n",
    "CCAGCAAATCCGCCTCCTGCCTCCACCAATCGCCAGTCAGGAAGGCAGCCTACCCCGCTGTCTCCACCTT\n",
    "TGAGAAACACTCATCCTCAGGCCATGCAGTGG\"\"\"\n",
    "print(dna_to_protein(dna))\n",
    "\n"
   ]
  },
  {
   "cell_type": "code",
   "execution_count": 3,
   "id": "2ce7b243",
   "metadata": {},
   "outputs": [
    {
     "name": "stdout",
     "output_type": "stream",
     "text": [
      "3-letter code: AsnSerThrThrPheHisGlnThrLeuGlnAspProArgValArgGlyLeuTyrPheProAlaGlyGlyGlnPheArgAsnSerLysProCysSerAspTyrCysLeuSerLeuIleValAsnLeuLeuGluAspTrpThrLeuArg\n",
      "Molecular Weight: 5659.3297999999995 Da\n",
      "Isoelectric Point (pI): 8.042704963684084\n"
     ]
    }
   ],
   "source": [
    "from Bio.Seq import Seq\n",
    "from Bio.SeqUtils import molecular_weight, seq3\n",
    "from Bio.SeqUtils.IsoelectricPoint import IsoelectricPoint as IP\n",
    "\n",
    "# Define the protein sequence\n",
    "protein_seq = Seq(\"NSTTFHQTLQDPRVRGLYFPAGGQFRNSKPCSDYCLSLIVNLLEDWTLR\")\n",
    "\n",
    "# Convert to 3-letter amino acid code\n",
    "three_letter_code = seq3(str(protein_seq))\n",
    "print(\"3-letter code:\", three_letter_code)\n",
    "\n",
    "# Calculate molecular weight\n",
    "mol_weight = molecular_weight(protein_seq, seq_type=\"protein\")\n",
    "print(\"Molecular Weight:\", mol_weight, \"Da\")\n",
    "\n",
    "# Calculate isoelectric point\n",
    "ip_calc = IP(str(protein_seq))\n",
    "iso_point = ip_calc.pi()\n",
    "print(\"Isoelectric Point (pI):\", iso_point)\n"
   ]
  },
  {
   "cell_type": "code",
   "execution_count": 4,
   "id": "08f52088",
   "metadata": {},
   "outputs": [],
   "source": [
    "def calculate_aliphatic_index(sequence):\n",
    "    \"\"\"\n",
    "    Aliphatic Index = X(Ala) + a*X(Val) + b*(X(Ile) + X(Leu))\n",
    "    where a = 2.9, b = 3.9\n",
    "    \"\"\"\n",
    "    a = 2.9\n",
    "    b = 3.9\n",
    "    seq = sequence.upper()\n",
    "    total = len(seq)\n",
    "    if total == 0:\n",
    "        return 0\n",
    "\n",
    "    count_ala = seq.count('A')\n",
    "    count_val = seq.count('V')\n",
    "    count_ile = seq.count('I')\n",
    "    count_leu = seq.count('L')\n",
    "\n",
    "    ai = ((count_ala + a * count_val + b * (count_ile + count_leu)) / total) * 100\n",
    "    return ai\n"
   ]
  },
  {
   "cell_type": "code",
   "execution_count": 5,
   "id": "b54b6c58",
   "metadata": {},
   "outputs": [
    {
     "name": "stdout",
     "output_type": "stream",
     "text": [
      "Aliphatic Index: 77.55102040816327\n"
     ]
    }
   ],
   "source": [
    "print(\"Aliphatic Index:\", calculate_aliphatic_index(str(protein_seq)))\n"
   ]
  },
  {
   "cell_type": "code",
   "execution_count": 6,
   "id": "d3e3694f",
   "metadata": {},
   "outputs": [
    {
     "name": "stdout",
     "output_type": "stream",
     "text": [
      "3-letter code: MetAlaIleValMetGlyArg\n",
      "Molecular Weight: 777.0108 Da\n",
      "Isoelectric Point (pI): 9.500077247619632\n",
      "Instability Index: 14.071428571428571\n",
      "Hydropathy (GRAVY): 1.3428571428571427\n",
      "Aliphatic Index: 111.42857142857143\n"
     ]
    }
   ],
   "source": [
    "from Bio.Seq import Seq\n",
    "from Bio.SeqUtils import molecular_weight, seq3\n",
    "from Bio.SeqUtils.IsoelectricPoint import IsoelectricPoint as IP\n",
    "from Bio.SeqUtils.ProtParam import ProteinAnalysis\n",
    "\n",
    "# Function to calculate aliphatic index\n",
    "def calculate_aliphatic_index(sequence):\n",
    "    \"\"\"\n",
    "    Aliphatic Index = X(Ala) + a*X(Val) + b*(X(Ile) + X(Leu))\n",
    "    where a = 2.9, b = 3.9\n",
    "    \"\"\"\n",
    "    a = 2.9\n",
    "    b = 3.9\n",
    "    seq = sequence.upper()\n",
    "    total = len(seq)\n",
    "    if total == 0:\n",
    "        return 0\n",
    "\n",
    "    count_ala = seq.count('A')\n",
    "    count_val = seq.count('V')\n",
    "    count_ile = seq.count('I')\n",
    "    count_leu = seq.count('L')\n",
    "\n",
    "    ai = ((count_ala + a * count_val + b * (count_ile + count_leu)) / total) * 100\n",
    "    return ai\n",
    "\n",
    "# Define the protein sequence\n",
    "protein_seq = Seq(\"MAIVMGR\")\n",
    "\n",
    "# 3-letter amino acid code\n",
    "print(\"3-letter code:\", seq3(str(protein_seq)))\n",
    "\n",
    "# Molecular Weight\n",
    "mol_weight = molecular_weight(protein_seq, seq_type=\"protein\")\n",
    "print(\"Molecular Weight:\", mol_weight, \"Da\")\n",
    "\n",
    "# Isoelectric Point (pI)\n",
    "ip_calc = IP(str(protein_seq))\n",
    "print(\"Isoelectric Point (pI):\", ip_calc.pi())\n",
    "\n",
    "# Instability Index, GRAVY\n",
    "analysis = ProteinAnalysis(str(protein_seq))\n",
    "print(\"Instability Index:\", analysis.instability_index())  # <40 = stable\n",
    "print(\"Hydropathy (GRAVY):\", analysis.gravy())  # >0 = hydrophobic\n",
    "print(\"Aliphatic Index:\", calculate_aliphatic_index(str(protein_seq)))  # Thermostability\n"
   ]
  },
  {
   "cell_type": "code",
   "execution_count": 8,
   "id": "78bdf8d2",
   "metadata": {},
   "outputs": [
    {
     "name": "stdout",
     "output_type": "stream",
     "text": [
      "\n",
      "[✓] Extracted Polymerase Gene\n",
      "Protein sequence (first 60 aa):\n",
      "MPLSYQHFRRLLLLDDEAGPLEEELPRLADEGLNRRVAEDLNLGNLNVSIPWTHKVGNFT...\n",
      "\n",
      "[🔍] Checking for resistance mutations...\n",
      "✅ Position 181: H (No resistance)\n",
      "✅ Position 204: Q (No resistance)\n",
      "\n",
      "[🖼] Visualization saved as hbv_polymerase_map.png\n"
     ]
    },
    {
     "data": {
      "image/png": "[encoded data removed]",
      "text/plain": [
       "<Figure size 1200x100 with 1 Axes>"
      ]
     },
     "metadata": {},
     "output_type": "display_data"
    }
   ],
   "source": [
    "from Bio import SeqIO\n",
    "from Bio.Seq import Seq\n",
    "from Bio.SeqRecord import SeqRecord\n",
    "import matplotlib.pyplot as plt\n",
    "\n",
    "# Step 1: Load HBV genome (download NC_003977 from NCBI as GenBank file)\n",
    "record = SeqIO.read(\"sequence.gb\", \"genbank\")\n",
    "\n",
    "# Step 2: Extract polymerase gene (P ORF)\n",
    "for feature in record.features:\n",
    "    if feature.type == \"CDS\" and \"polymerase\" in feature.qualifiers.get(\"product\", [\"\"])[0].lower():\n",
    "        poly_feature = feature\n",
    "        poly_seq = feature.extract(record.seq)\n",
    "        poly_protein = poly_seq.translate(to_stop=True)\n",
    "        print(f\"\\n[✓] Extracted Polymerase Gene\")\n",
    "        print(f\"Protein sequence (first 60 aa):\\n{poly_protein[:60]}...\")\n",
    "        break\n",
    "\n",
    "# Step 3: Check for known resistance mutations\n",
    "# Example: M204V/I, A181T/V (positions in protein sequence)\n",
    "resistance_mutations = {\n",
    "    181: [\"T\", \"V\"],  # A181T/V\n",
    "    204: [\"V\", \"I\"],  # M204V/I\n",
    "}\n",
    "print(\"\\n[🔍] Checking for resistance mutations...\")\n",
    "for pos, bad_aas in resistance_mutations.items():\n",
    "    if pos <= len(poly_protein):\n",
    "        aa = poly_protein[pos - 1]\n",
    "        if aa in bad_aas:\n",
    "            print(f\"⚠️ Resistance mutation found at position {pos}: {aa}\")\n",
    "        else:\n",
    "            print(f\"✅ Position {pos}: {aa} (No resistance)\")\n",
    "\n",
    "# Step 4: Visualization of drug-binding regions (example positions)\n",
    "drug_binding_sites = [(150, 160), (200, 210)]  # example ranges for visualization\n",
    "\n",
    "plt.figure(figsize=(12, 1))\n",
    "plt.hlines(1, 0, len(poly_protein), colors=\"gray\", linewidth=10, label=\"Polymerase\")\n",
    "\n",
    "# Highlight binding regions\n",
    "for start, end in drug_binding_sites:\n",
    "    plt.hlines(1, start, end, colors=\"blue\", linewidth=10, label=\"Drug-binding site\" if start == 150 else \"\")\n",
    "\n",
    "# Highlight resistance mutation positions\n",
    "for pos in resistance_mutations:\n",
    "    plt.plot(pos, 1, 'ro', label=\"Resistance Mutation\" if pos == 181 else \"\")\n",
    "\n",
    "plt.title(\"HBV Polymerase Drug Target Map\")\n",
    "plt.yticks([])\n",
    "plt.xlabel(\"Amino Acid Position\")\n",
    "plt.legend(loc=\"upper right\")\n",
    "plt.tight_layout()\n",
    "plt.savefig(\"hbv_polymerase_map.png\")\n",
    "print(\"\\n[🖼] Visualization saved as hbv_polymerase_map.png\")\n"
   ]
  },
  {
   "cell_type": "code",
   "execution_count": null,
   "id": "e853903c",
   "metadata": {},
   "outputs": [],
   "source": [
    "from Bio.SeqRecord import SeqRecord\n",
    "from Bio.Seq import Seq\n",
    "from Bio import SeqIO\n",
    "\n",
    "records = []\n",
    "for feature in record.features:\n",
    "    if feature.type == \"CDS\":\n",
    "        gene = feature.qualifiers.get(\"gene\", [\"unknown\"])[0]\n",
    "        translation = feature.qualifiers.get(\"translation\", [\"\"])[0]\n",
    "        if translation:\n",
    "            seq_record = SeqRecord(Seq(translation), id=gene, description=\"HBV protein\")\n",
    "            records.append(seq_record)\n",
    "\n",
    "SeqIO.write(records, \"hbv_proteins.fasta\", \"fasta\")\n",
    "print(\"Saved protein sequences to hbv_proteins.fasta\")\n"
   ]
  }
 ],
 "metadata": {
  "kernelspec": {
   "display_name": "genetic",
   "language": "python",
   "name": "python3"
  },
  "language_info": {
   "codemirror_mode": {
    "name": "ipython",
    "version": 3
   },
   "file_extension": ".py",
   "mimetype": "text/x-python",
   "name": "python",
   "nbconvert_exporter": "python",
   "pygments_lexer": "ipython3",
   "version": "3.11.9"
  }
 },
 "nbformat": 4,
 "nbformat_minor": 5
}
